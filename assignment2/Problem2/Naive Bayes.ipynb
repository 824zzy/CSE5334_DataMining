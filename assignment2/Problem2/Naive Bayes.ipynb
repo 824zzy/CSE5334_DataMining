{
 "cells": [
  {
   "cell_type": "code",
   "execution_count": 1,
   "metadata": {},
   "outputs": [],
   "source": [
    "import numpy as np"
   ]
  },
  {
   "cell_type": "code",
   "execution_count": 2,
   "metadata": {},
   "outputs": [
    {
     "name": "stdout",
     "output_type": "stream",
     "text": [
      "(500, 1)\n",
      "[[ 1.77908893  1.22007509]\n",
      " [ 2.75658475  3.15790226]\n",
      " [ 1.51467271  0.18760104]\n",
      " [ 0.22450054 -0.67231769]\n",
      " [-0.06588937 -0.94176076]] [[ 1.83223457  0.93511325]\n",
      " [ 0.07420417  0.91668364]\n",
      " [-0.58189593  0.3754807 ]\n",
      " [-0.84756133  1.58579771]\n",
      " [-1.54280439  0.4474047 ]]\n",
      "[[0.]\n",
      " [0.]\n",
      " [0.]\n",
      " [0.]\n",
      " [0.]] [[1.]\n",
      " [1.]\n",
      " [1.]\n",
      " [1.]\n",
      " [1.]]\n"
     ]
    }
   ],
   "source": [
    "# build train set\n",
    "mul1, sigma1 = [1, 0], [[1, 0.75], [0.75, 1]]\n",
    "mul2, sigma2 = [0, 1], [[1, 0.75], [0.75, 1]]\n",
    "size = 500\n",
    "\n",
    "train_data2D_1 = np.random.multivariate_normal(mean=mul1, cov=sigma1, size=size)\n",
    "train_data2D_1_label = np.zeros((size, 1))\n",
    "print(train_data2D_1_label.shape)\n",
    "\n",
    "train_data2D_2 = np.random.multivariate_normal(mean=mul2, cov=sigma2, size=size)\n",
    "train_data2D_2_label = np.ones((size, 1))\n",
    "X_train = np.vstack([train_data2D_1, train_data2D_2])\n",
    "y_train = np.vstack([train_data2D_1_label, train_data2D_2_label])\n",
    "print(X_train[:5], X_train[-5:])\n",
    "print(y_train[:5], y_train[-5:])"
   ]
  },
  {
   "cell_type": "code",
   "execution_count": 3,
   "metadata": {},
   "outputs": [
    {
     "name": "stdout",
     "output_type": "stream",
     "text": [
      "(500, 1)\n",
      "[[ 0.11914754 -0.41073085]\n",
      " [ 0.96742746 -0.74897948]\n",
      " [ 1.00061425 -1.85875687]\n",
      " [ 3.47030771  2.65788671]\n",
      " [-0.4764433  -2.12404637]] [[-0.37098839  0.29117371]\n",
      " [-0.58536361  0.87804696]\n",
      " [ 1.69529099  1.73701308]\n",
      " [ 0.28342398 -0.26921007]\n",
      " [ 1.63006445  2.44321577]]\n",
      "[[0.]\n",
      " [0.]\n",
      " [0.]\n",
      " [0.]\n",
      " [0.]] [[1.]\n",
      " [1.]\n",
      " [1.]\n",
      " [1.]\n",
      " [1.]]\n"
     ]
    }
   ],
   "source": [
    "# build test set\n",
    "mul1, sigma1 = [1, 0], [[1, 0.75], [0.75, 1]]\n",
    "mul2, sigma2 = [0, 1], [[1, 0.75], [0.75, 1]]\n",
    "size = 500\n",
    "\n",
    "test_data2D_1 = np.random.multivariate_normal(mean=mul1, cov=sigma1, size=size)\n",
    "test_data2D_1_label = np.zeros((size, 1))\n",
    "print(test_data2D_1_label.shape)\n",
    "\n",
    "test_data2D_2 = np.random.multivariate_normal(mean=mul2, cov=sigma2, size=size)\n",
    "test_data2D_2_label = np.ones((size, 1))\n",
    "X_test = np.vstack([test_data2D_1, test_data2D_2])\n",
    "y_test = np.vstack([test_data2D_1_label, test_data2D_2_label])\n",
    "print(X_test[:5], X_test[-5:])\n",
    "print(y_test[:5], y_test[-5:])"
   ]
  },
  {
   "cell_type": "code",
   "execution_count": 15,
   "metadata": {},
   "outputs": [
    {
     "name": "stdout",
     "output_type": "stream",
     "text": [
      "1.0.3\n"
     ]
    }
   ],
   "source": [
    "import pandas as pd\n",
    "import numpy as np\n",
    "print(pd.__version__)\n",
    "\n",
    "def myNB(X, y, X_test, y_test):    \n",
    "    def norm(x, mean, std):\n",
    "        return 1/(np.sqrt(2*np.pi)*std)*np.exp(-(x-mean)**2/2*(std**2))\n",
    "        \n",
    "    X_train, y_train = pd.DataFrame(X, columns=['Feature1', 'Feature2']), pd.DataFrame(y, columns=['Class'])\n",
    "    X_test, y_test = pd.DataFrame(X_test, columns=['Feature1', 'Feature2']), pd.DataFrame(y_test, columns=['Class'])\n",
    "    y_unique = y_train['Class'].unique()\n",
    "    train_set = pd.concat([X_train, y_train], axis=1)\n",
    "    prior = np.zeros(len(y_unique))\n",
    "    conditional = np.reshape(np.zeros(len(y_unique)*len(X_train.columns)*2), (len(y_unique), len(X_train.columns), 2))\n",
    "    \n",
    "\n",
    "    for i in range(0,len(y_unique)):\n",
    "        prior[i]=(sum(y_train['Class']==y_unique[i])+1)/(len(y_train['Class'])+len(y_unique))\n",
    "#     print(\"The prior probability of each class is: \", prior)\n",
    "\n",
    "    for i, h in enumerate(X_train.columns.values.tolist()):\n",
    "        for j in range(0,len(y_unique)):\n",
    "            class_feature = train_set[h].loc[(train_set['Class']==y_unique[j])]\n",
    "            mean = np.mean(class_feature)\n",
    "            var = np.std(class_feature)\n",
    "            conditional[i][j] = [mean, var]\n",
    "#             print(\"mean and standard variance of current feature is: \", h, j, mean, var)\n",
    "    \n",
    "#     print(conditional)\n",
    "#     print(\"Prior distribution is: \", prior)\n",
    "    # prediction\n",
    "    pred_probs = []\n",
    "    for idx, row in X_test.iterrows():\n",
    "        probs = []\n",
    "        for cIdx, pri in enumerate(prior): # class 0 1\n",
    "            for fIdx, feat in enumerate(row): # feature 0 1\n",
    "                pri *= norm(feat, conditional[fIdx][cIdx][0], conditional[fIdx][cIdx][1])\n",
    "            probs.append(pri)\n",
    "        pred_probs.append(probs)\n",
    "    pred = [np.argmax(p) for p in pred_probs]\n",
    "    # calculate error rate\n",
    "#     print(np.array(pred).shape)\n",
    "#     print(y_test.to_numpy().shape)\n",
    "    err = np.mean(np.array(pred)!=y_test.to_numpy().squeeze())\n",
    "#     print(err)\n",
    "    \n",
    "    return pred, conditional, err\n",
    "    \n",
    "# pred, posterior, error = myNB(X_train, y_train, X_test, y_test)\n",
    "pred, posterior, err = myNB(X_train, y_train, X_test, y_test)"
   ]
  },
  {
   "cell_type": "code",
   "execution_count": 17,
   "metadata": {},
   "outputs": [
    {
     "name": "stdout",
     "output_type": "stream",
     "text": [
      "current time err:  0.094\n",
      "current time err:  0.084\n",
      "current time err:  0.105\n",
      "current time err:  0.107\n",
      "current time err:  0.086\n",
      "current time err:  0.085\n",
      "current time err:  0.079\n",
      "current time err:  0.083\n",
      "current time err:  0.081\n",
      "current time err:  0.087\n",
      "0.0891\n"
     ]
    }
   ],
   "source": [
    "# perform the experiments 10 times\n",
    "avg_err, run_time = 0, 10\n",
    "for i in range(run_time):\n",
    "    train_data2D_1 = np.random.multivariate_normal(mean=mul1, cov=sigma1, size=size)\n",
    "    train_data2D_1_label = np.zeros((size, 1))\n",
    "\n",
    "    train_data2D_2 = np.random.multivariate_normal(mean=mul2, cov=sigma2, size=size)\n",
    "    train_data2D_2_label = np.ones((size, 1))\n",
    "    X_train = np.vstack([train_data2D_1, train_data2D_2])\n",
    "    y_train = np.vstack([train_data2D_1_label, train_data2D_2_label])\n",
    "    \n",
    "    test_data2D_1 = np.random.multivariate_normal(mean=mul1, cov=sigma1, size=size)\n",
    "    test_data2D_1_label = np.zeros((size, 1))\n",
    "\n",
    "    test_data2D_2 = np.random.multivariate_normal(mean=mul2, cov=sigma2, size=size)\n",
    "    test_data2D_2_label = np.ones((size, 1))\n",
    "    X_test = np.vstack([test_data2D_1, test_data2D_2])\n",
    "    y_test = np.vstack([test_data2D_1_label, test_data2D_2_label])\n",
    "    \n",
    "    pred, posterior, err = myNB(X_train, y_train, X_test, y_test)\n",
    "    print(\"current time err: \", err)\n",
    "    avg_err += err/run_time\n",
    "\n",
    "print(avg_err)\n"
   ]
  },
  {
   "cell_type": "code",
   "execution_count": 25,
   "metadata": {},
   "outputs": [
    {
     "name": "stdout",
     "output_type": "stream",
     "text": [
      "0.913\n",
      "0.928\n",
      "0.9009708737864077\n"
     ]
    }
   ],
   "source": [
    "from sklearn import metrics\n",
    "train_data2D_1 = np.random.multivariate_normal(mean=mul1, cov=sigma1, size=size)\n",
    "train_data2D_1_label = np.zeros((size, 1))\n",
    "\n",
    "train_data2D_2 = np.random.multivariate_normal(mean=mul2, cov=sigma2, size=size)\n",
    "train_data2D_2_label = np.ones((size, 1))\n",
    "X_train = np.vstack([train_data2D_1, train_data2D_2])\n",
    "y_train = np.vstack([train_data2D_1_label, train_data2D_2_label])\n",
    "\n",
    "test_data2D_1 = np.random.multivariate_normal(mean=mul1, cov=sigma1, size=size)\n",
    "test_data2D_1_label = np.zeros((size, 1))\n",
    "\n",
    "test_data2D_2 = np.random.multivariate_normal(mean=mul2, cov=sigma2, size=size)\n",
    "test_data2D_2_label = np.ones((size, 1))\n",
    "X_test = np.vstack([test_data2D_1, test_data2D_2])\n",
    "y_test = np.vstack([test_data2D_1_label, test_data2D_2_label])\n",
    "\n",
    "pred, posterior, err = myNB(X_train, y_train, X_test, y_test)\n",
    "\n",
    "acc = metrics.accuracy_score(np.array(pred), y_test.squeeze())\n",
    "print(acc)\n",
    "precision = metrics.precision_score(np.array(pred), y_test.squeeze())\n",
    "print(precision)\n",
    "recall = metrics.recall_score(np.array(pred), y_test.squeeze())\n",
    "print(recall)"
   ]
  },
  {
   "cell_type": "code",
   "execution_count": null,
   "metadata": {},
   "outputs": [],
   "source": []
  }
 ],
 "metadata": {
  "kernelspec": {
   "display_name": "Python 3.6.7 64-bit ('py36': conda)",
   "language": "python",
   "name": "python36764bitpy36conda66c596ca2bd34a8b9a450feddd255336"
  },
  "language_info": {
   "codemirror_mode": {
    "name": "ipython",
    "version": 3
   },
   "file_extension": ".py",
   "mimetype": "text/x-python",
   "name": "python",
   "nbconvert_exporter": "python",
   "pygments_lexer": "ipython3",
   "version": "3.6.7"
  }
 },
 "nbformat": 4,
 "nbformat_minor": 2
}
