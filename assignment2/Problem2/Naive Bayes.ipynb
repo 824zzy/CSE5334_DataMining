{
 "cells": [
  {
   "cell_type": "code",
   "execution_count": 28,
   "metadata": {},
   "outputs": [],
   "source": [
    "import numpy as np"
   ]
  },
  {
   "cell_type": "code",
   "execution_count": 29,
   "metadata": {},
   "outputs": [
    {
     "name": "stdout",
     "output_type": "stream",
     "text": [
      "(500, 1)\n",
      "[[ 2.09374185  1.53134544]\n",
      " [ 0.24108229 -0.02257292]\n",
      " [ 2.02287171  2.02967829]\n",
      " [ 1.49393741  0.1232896 ]\n",
      " [ 1.37101352 -0.23580922]] [[ 0.22659484  0.81978801]\n",
      " [ 1.45116257  1.45085759]\n",
      " [ 0.01616226  1.07280237]\n",
      " [-0.57073394  0.46539831]\n",
      " [-0.34546737  1.65021903]]\n",
      "[[0.]\n",
      " [0.]\n",
      " [0.]\n",
      " [0.]\n",
      " [0.]] [[1.]\n",
      " [1.]\n",
      " [1.]\n",
      " [1.]\n",
      " [1.]]\n"
     ]
    }
   ],
   "source": [
    "# build train set\n",
    "mul1, sigma1 = [1, 0], [[1, 0.75], [0.75, 1]]\n",
    "mul2, sigma2 = [0, 1], [[1, 0.75], [0.75, 1]]\n",
    "size = 500\n",
    "\n",
    "train_data2D_1 = np.random.multivariate_normal(mean=mul1, cov=sigma1, size=size)\n",
    "train_data2D_1_label = np.zeros((size, 1))\n",
    "print(train_data2D_1_label.shape)\n",
    "\n",
    "train_data2D_2 = np.random.multivariate_normal(mean=mul2, cov=sigma2, size=size)\n",
    "train_data2D_2_label = np.ones((size, 1))\n",
    "X_train = np.vstack([train_data2D_1, train_data2D_2])\n",
    "y_train = np.vstack([train_data2D_1_label, train_data2D_2_label])\n",
    "print(X_train[:5], X_train[-5:])\n",
    "print(y_train[:5], y_train[-5:])"
   ]
  },
  {
   "cell_type": "code",
   "execution_count": 30,
   "metadata": {},
   "outputs": [
    {
     "name": "stdout",
     "output_type": "stream",
     "text": [
      "(500, 1)\n",
      "[[ 1.24504692  0.13734901]\n",
      " [ 1.87515513  0.70312458]\n",
      " [ 1.00630349  0.25881155]\n",
      " [-0.01564971 -1.08521709]\n",
      " [ 0.95205082  0.01307674]] [[ 0.09858419  1.91148621]\n",
      " [ 0.73460602  0.84962569]\n",
      " [-0.52981287  0.13790422]\n",
      " [-0.54206764 -0.15347962]\n",
      " [-0.08326352  1.18946564]]\n",
      "[[0.]\n",
      " [0.]\n",
      " [0.]\n",
      " [0.]\n",
      " [0.]] [[1.]\n",
      " [1.]\n",
      " [1.]\n",
      " [1.]\n",
      " [1.]]\n"
     ]
    }
   ],
   "source": [
    "# build test set\n",
    "mul1, sigma1 = [1, 0], [[1, 0.75], [0.75, 1]]\n",
    "mul2, sigma2 = [0, 1], [[1, 0.75], [0.75, 1]]\n",
    "size = 500\n",
    "\n",
    "test_data2D_1 = np.random.multivariate_normal(mean=mul1, cov=sigma1, size=size)\n",
    "test_data2D_1_label = np.zeros((size, 1))\n",
    "print(test_data2D_1_label.shape)\n",
    "\n",
    "test_data2D_2 = np.random.multivariate_normal(mean=mul2, cov=sigma2, size=size)\n",
    "test_data2D_2_label = np.ones((size, 1))\n",
    "X_test = np.vstack([test_data2D_1, test_data2D_2])\n",
    "y_test = np.vstack([test_data2D_1_label, test_data2D_2_label])\n",
    "print(X_test[:5], X_test[-5:])\n",
    "print(y_test[:5], y_test[-5:])"
   ]
  },
  {
   "cell_type": "code",
   "execution_count": 31,
   "metadata": {},
   "outputs": [
    {
     "name": "stdout",
     "output_type": "stream",
     "text": [
      "1.0.3\n"
     ]
    }
   ],
   "source": [
    "import pandas as pd\n",
    "import numpy as np\n",
    "print(pd.__version__)\n",
    "\n",
    "def myNB(X, y, X_test, y_test):    \n",
    "    def norm(x, mean, std):\n",
    "        return 1/(np.sqrt(2*np.pi)*std)*np.exp(-(x-mean)**2/2*(std**2))\n",
    "        \n",
    "    X_train, y_train = pd.DataFrame(X, columns=['Feature1', 'Feature2']), pd.DataFrame(y, columns=['Class'])\n",
    "    X_test, y_test = pd.DataFrame(X_test, columns=['Feature1', 'Feature2']), pd.DataFrame(y_test, columns=['Class'])\n",
    "    y_unique = y_train['Class'].unique()\n",
    "    train_set = pd.concat([X_train, y_train], axis=1)\n",
    "    prior = np.zeros(len(y_unique))\n",
    "    conditional = np.reshape(np.zeros(len(y_unique)*len(X_train.columns)*2), (len(y_unique), len(X_train.columns), 2))\n",
    "    \n",
    "\n",
    "    for i in range(0,len(y_unique)):\n",
    "        prior[i]=(sum(y_train['Class']==y_unique[i])+1)/(len(y_train['Class'])+len(y_unique))\n",
    "#     print(\"The prior probability of each class is: \", prior)\n",
    "\n",
    "    for i, h in enumerate(X_train.columns.values.tolist()):\n",
    "        for j in range(0,len(y_unique)):\n",
    "            class_feature = train_set[h].loc[(train_set['Class']==y_unique[j])]\n",
    "            mean = np.mean(class_feature)\n",
    "            var = np.std(class_feature)\n",
    "            conditional[i][j] = [mean, var]\n",
    "#             print(\"mean and standard variance of current feature is: \", h, j, mean, var)\n",
    "#     print(conditional)\n",
    "#     print(\"Prior distribution is: \", prior)\n",
    "    pred_probs = []\n",
    "    for idx, row in X_test.iterrows():\n",
    "        probs = []\n",
    "        for cIdx, pri in enumerate(prior): # class 0 1\n",
    "            for fIdx, feat in enumerate(row): # feature 0 1\n",
    "                pri *= norm(feat, conditional[fIdx][cIdx][0], conditional[fIdx][cIdx][1])\n",
    "            probs.append(pri)\n",
    "        pred_probs.append(probs)\n",
    "    pred = [np.argmax(p) for p in pred_probs]\n",
    "    # calculate error rate\n",
    "#     print(np.array(pred).shape)\n",
    "#     print(y_test.to_numpy().shape)\n",
    "    err = np.mean(np.array(pred)!=y_test.to_numpy().squeeze())\n",
    "#     print(err)\n",
    "    \n",
    "    return pred, conditional, err\n",
    "    \n",
    "pred, posterior, err = myNB(X_train, y_train, X_test, y_test)"
   ]
  },
  {
   "cell_type": "code",
   "execution_count": 32,
   "metadata": {},
   "outputs": [
    {
     "name": "stdout",
     "output_type": "stream",
     "text": [
      "current time error:  0.117\n",
      "current time error:  0.057\n",
      "current time error:  0.101\n",
      "current time error:  0.061\n",
      "current time error:  0.086\n",
      "current time error:  0.08\n",
      "current time error:  0.079\n",
      "current time error:  0.08\n",
      "current time error:  0.071\n",
      "current time error:  0.09\n",
      "The average error:  0.08219999999999998\n"
     ]
    }
   ],
   "source": [
    "# perform the experiments 10 times\n",
    "avg_err, run_time = 0, 10\n",
    "for i in range(run_time):\n",
    "    train_data2D_1 = np.random.multivariate_normal(mean=mul1, cov=sigma1, size=size)\n",
    "    train_data2D_1_label = np.zeros((size, 1))\n",
    "\n",
    "    train_data2D_2 = np.random.multivariate_normal(mean=mul2, cov=sigma2, size=size)\n",
    "    train_data2D_2_label = np.ones((size, 1))\n",
    "    X_train = np.vstack([train_data2D_1, train_data2D_2])\n",
    "    y_train = np.vstack([train_data2D_1_label, train_data2D_2_label])\n",
    "    \n",
    "    test_data2D_1 = np.random.multivariate_normal(mean=mul1, cov=sigma1, size=size)\n",
    "    test_data2D_1_label = np.zeros((size, 1))\n",
    "\n",
    "    test_data2D_2 = np.random.multivariate_normal(mean=mul2, cov=sigma2, size=size)\n",
    "    test_data2D_2_label = np.ones((size, 1))\n",
    "    X_test = np.vstack([test_data2D_1, test_data2D_2])\n",
    "    y_test = np.vstack([test_data2D_1_label, test_data2D_2_label])\n",
    "    \n",
    "    pred, posterior, err = myNB(X_train, y_train, X_test, y_test)\n",
    "    print(\"current time error: \", err)\n",
    "    avg_err += err/run_time\n",
    "\n",
    "print(\"The average error: \", avg_err)\n"
   ]
  },
  {
   "cell_type": "code",
   "execution_count": 34,
   "metadata": {},
   "outputs": [
    {
     "name": "stdout",
     "output_type": "stream",
     "text": [
      "Accuracy = 0.912\n",
      "Precision = 0.896\n",
      "Metrics = 0.926\n",
      "Confusion Matrix = [[464  52]\n",
      " [ 36 448]]\n"
     ]
    },
    {
     "data": {
      "image/png": "[encoded data removed]",
      "text/plain": [
       "<Figure size 432x288 with 1 Axes>"
      ]
     },
     "metadata": {
      "needs_background": "light"
     },
     "output_type": "display_data"
    }
   ],
   "source": [
    "from sklearn import metrics\n",
    "import matplotlib.pyplot as plt\n",
    "\n",
    "train_data2D_1 = np.random.multivariate_normal(mean=mul1, cov=sigma1, size=size)\n",
    "train_data2D_1_label = np.zeros((size, 1))\n",
    "\n",
    "train_data2D_2 = np.random.multivariate_normal(mean=mul2, cov=sigma2, size=size)\n",
    "train_data2D_2_label = np.ones((size, 1))\n",
    "X_train = np.vstack([train_data2D_1, train_data2D_2])\n",
    "y_train = np.vstack([train_data2D_1_label, train_data2D_2_label])\n",
    "\n",
    "test_data2D_1 = np.random.multivariate_normal(mean=mul1, cov=sigma1, size=size)\n",
    "test_data2D_1_label = np.zeros((size, 1))\n",
    "\n",
    "test_data2D_2 = np.random.multivariate_normal(mean=mul2, cov=sigma2, size=size)\n",
    "test_data2D_2_label = np.ones((size, 1))\n",
    "X_test = np.vstack([test_data2D_1, test_data2D_2])\n",
    "y_test = np.vstack([test_data2D_1_label, test_data2D_2_label])\n",
    "\n",
    "pred, posterior, err = myNB(X_train, y_train, X_test, y_test)\n",
    "\n",
    "# report the metrics\n",
    "acc = metrics.accuracy_score(np.array(pred), y_test.squeeze())\n",
    "print(\"Accuracy = %.3f\" % (sum([p==a for p, a in zip(np.array(pred), y_test.squeeze())])/len(np.array(pred))))\n",
    "precision = metrics.precision_score(np.array(pred), y_test.squeeze())\n",
    "print(\"Precision = %.3f\" % precision)\n",
    "recall = metrics.recall_score(np.array(pred), y_test.squeeze())\n",
    "print(\"Metrics = %.3f\" % recall)\n",
    "cm = metrics.confusion_matrix(np.array(pred), y_test.squeeze())\n",
    "print(\"Confusion Matrix = {}\".format(cm))\n",
    "\n",
    "# draw data points\n",
    "plt.scatter(train_data2D_1[:, 0], train_data2D_1[:, 1], label='$\\mu_1, \\sigma_1$')\n",
    "plt.scatter(train_data2D_2[:, 0], train_data2D_2[:, 1], label='$\\mu_2, \\sigma_2$')\n",
    "plt.legend()\n",
    "plt.show()"
   ]
  },
  {
   "cell_type": "code",
   "execution_count": 35,
   "metadata": {},
   "outputs": [
    {
     "data": {
      "image/png": "[encoded data removed]",
      "text/plain": [
       "<Figure size 432x288 with 1 Axes>"
      ]
     },
     "metadata": {
      "needs_background": "light"
     },
     "output_type": "display_data"
    }
   ],
   "source": [
    "# change the number of examples\n",
    "accs = []\n",
    "x_axis = [0, 1, 2, 3, 4, 5]\n",
    "for n in [10,20,50,100,300,500]:\n",
    "    train_set_1 = train_data2D_1[:n]\n",
    "    train_label1 = np.zeros((n, 1))\n",
    "    train_set_2 = train_data2D_2[:n]\n",
    "    train_label2 = np.ones((n, 1))\n",
    "    X_train = np.vstack([train_set_1, train_set_2])\n",
    "    y_train = np.vstack([train_label1, train_label2])\n",
    "    pred, posterior, err = myNB(X_train, y_train, X_test, y_test)\n",
    "    acc = metrics.accuracy_score(np.array(pred), y_test.squeeze())\n",
    "    accs.append(acc)\n",
    "\n",
    "\n",
    "plt.plot(x_axis, accs, 'ro-', label='Changes of accuracies')\n",
    "plt.xlabel(\"number of examples\")\n",
    "plt.ylabel(\"accuracy\")\n",
    "plt.legend()\n",
    "plt.show()    "
   ]
  },
  {
   "cell_type": "code",
   "execution_count": 37,
   "metadata": {},
   "outputs": [
    {
     "name": "stdout",
     "output_type": "stream",
     "text": [
      "The accuracy when  change the number of examples in class 0 as 700 and the other as 300: 0.834\n"
     ]
    }
   ],
   "source": [
    "# change the number of examples\n",
    "train_data2D_1 = np.random.multivariate_normal(mean=mul1, cov=sigma1, size=700)\n",
    "train_data2D_1_label = np.zeros((700, 1))\n",
    "\n",
    "train_data2D_2 = np.random.multivariate_normal(mean=mul2, cov=sigma2, size=300)\n",
    "train_data2D_2_label = np.ones((300, 1))\n",
    "\n",
    "train_set_1 = train_data2D_1[:700]\n",
    "train_label1 = np.zeros((700, 1))\n",
    "train_set_2 = train_data2D_2[:300]\n",
    "train_label2 = np.ones((300, 1))\n",
    "X_train = np.vstack([train_set_1, train_set_2])\n",
    "y_train = np.vstack([train_label1, train_label2])\n",
    "pred, posterior, err = myNB(X_train, y_train, X_test, y_test)\n",
    "acc = metrics.accuracy_score(np.array(pred), y_test.squeeze())\n",
    "print(\"The accuracy when  change the number of examples in class 0 as 700 and the other as 300:\", acc)"
   ]
  },
  {
   "cell_type": "code",
   "execution_count": 27,
   "metadata": {},
   "outputs": [
    {
     "name": "stdout",
     "output_type": "stream",
     "text": [
      "No Skill: ROC AUC=0.500\n",
      "Logistic: ROC AUC=0.863\n"
     ]
    },
    {
     "data": {
      "image/png": "[encoded data removed]",
      "text/plain": [
       "<Figure size 432x288 with 1 Axes>"
      ]
     },
     "metadata": {
      "needs_background": "light"
     },
     "output_type": "display_data"
    }
   ],
   "source": [
    "from sklearn.metrics import roc_curve\n",
    "from sklearn.metrics import roc_auc_score\n",
    "\n",
    "ns_probs = [0 for _ in range(len(y_test))]\n",
    "# calculate scores\n",
    "ns_auc = roc_auc_score(y_test, ns_probs)\n",
    "lr_auc = roc_auc_score(y_test, pred)\n",
    "# summarize scores\n",
    "print('No Skill: ROC AUC=%.3f' % (ns_auc))\n",
    "print('Logistic: ROC AUC=%.3f' % (lr_auc))\n",
    "# calculate roc curves\n",
    "ns_fpr, ns_tpr, _ = roc_curve(y_test, ns_probs)\n",
    "lr_fpr, lr_tpr, _ = roc_curve(y_test, pred)\n",
    "# plot the roc curve for the model\n",
    "plt.plot(ns_fpr, ns_tpr, linestyle='--', label='No Skill')\n",
    "plt.plot(lr_fpr, lr_tpr, marker='.', label='Logistic')\n",
    "# axis labels\n",
    "plt.xlabel('False Positive Rate')\n",
    "plt.ylabel('True Positive Rate')\n",
    "# show the legend\n",
    "plt.legend()\n",
    "# show the plot\n",
    "plt.show()\n",
    "\n"
   ]
  },
  {
   "cell_type": "code",
   "execution_count": 2,
   "metadata": {},
   "outputs": [
    {
     "name": "stdout",
     "output_type": "stream",
     "text": [
      "Requirement already satisfied: nltk in /Users/zzy824/anaconda2/envs/py36/lib/python3.6/site-packages (3.4.5)\n",
      "Requirement already satisfied: six in /Users/zzy824/anaconda2/envs/py36/lib/python3.6/site-packages (from nltk) (1.10.0)\n",
      "\u001b[33mWARNING: You are using pip version 19.1.1, however version 20.0.2 is available.\n",
      "You should consider upgrading via the 'pip install --upgrade pip' command.\u001b[0m\n"
     ]
    },
    {
     "name": "stderr",
     "output_type": "stream",
     "text": [
      "[nltk_data] Downloading package wordnet to /Users/zzy824/nltk_data...\n",
      "[nltk_data]   Package wordnet is already up-to-date!\n",
      "[nltk_data] Downloading package stopwords to\n",
      "[nltk_data]     /Users/zzy824/nltk_data...\n",
      "[nltk_data]   Package stopwords is already up-to-date!\n"
     ]
    },
    {
     "name": "stdout",
     "output_type": "stream",
     "text": [
      "(0, '_') 0.09332677950844283\n",
      "(0, 'anyone') 0.057561492565462814\n",
      "(0, 'away') 0.07449793816650496\n",
      "(0, 'back') 0.054780089388707126\n",
      "(0, 'beautiful') 0.08197509898030969\n",
      "tf-idf vector for document 0 is [array([0.        , 0.        , 0.        , 0.        , 0.05008433,\n",
      "       0.        , 0.        , 0.        , 0.        , 0.        ]), 1]\n",
      "tf-idf vector for document 1 is [array([0.        , 0.        , 0.        , 0.        , 0.09799108,\n",
      "       0.        , 0.        , 0.        , 0.        , 0.        ]), 1]\n",
      "tf-idf vector for document 2 is [array([0.02129965, 0.        , 0.        , 0.        , 0.03266369,\n",
      "       0.        , 0.        , 0.        , 0.        , 0.        ]), 1]\n",
      "tf-idf vector for document 3 is [array([0.05878704, 0.        , 0.        , 0.        , 0.0300506 ,\n",
      "       0.        , 0.        , 0.        , 0.        , 0.        ]), 1]\n",
      "tf-idf vector for document 4 is [array([0.        , 0.        , 0.03727823, 0.        , 0.04899554,\n",
      "       0.        , 0.        , 0.        , 0.        , 0.        ]), 1]\n",
      "tf-idf vector for document 5 is [array([0.        , 0.        , 0.        , 0.        , 0.06091338,\n",
      "       0.        , 0.        , 0.        , 0.        , 0.        ]), 1]\n",
      "tf-idf vector for document 6 is [array([0., 0., 0., 0., 0., 0., 0., 0., 0., 0.]), 0]\n",
      "tf-idf vector for document 7 is [array([0., 0., 0., 0., 0., 0., 0., 0., 0., 0.]), 1]\n",
      "tf-idf vector for document 8 is [array([0.        , 0.        , 0.        , 0.03937682, 0.        ,\n",
      "       0.        , 0.        , 0.        , 0.        , 0.        ]), 1]\n",
      "tf-idf vector for document 9 is [array([0., 0., 0., 0., 0., 0., 0., 0., 0., 0.]), 1]\n"
     ]
    }
   ],
   "source": [
    "# Generate tfidf matrix\n",
    "!pip install nltk\n",
    "import nltk\n",
    "nltk.download('wordnet')\n",
    "nltk.download('stopwords')\n",
    "import pandas as pd\n",
    "\n",
    "review=pd.read_csv('./data/Amazon_Reviews.csv')\n",
    "review['Label']=review['Label'].map({'__label__2 ':1,'__label__1 ':0})\n",
    "docs_num = review.shape[0]\n",
    "\n",
    "# Preprocessing for tokenize, stopwords removal, lemmatization\n",
    "from nltk.tokenize import RegexpTokenizer\n",
    "from nltk.stem import WordNetLemmatizer\n",
    "from nltk.corpus import stopwords\n",
    "\n",
    "tokenizer=RegexpTokenizer(r'\\w+')\n",
    "lemmatizer=WordNetLemmatizer()\n",
    "\n",
    "for idx, row in review.iterrows():\n",
    "    tmp = []\n",
    "    tokens = tokenizer.tokenize(row['Review'])\n",
    "    for w in tokens:\n",
    "        if w.lower() not in stopwords.words('english'):\n",
    "            tmp.append(lemmatizer.lemmatize(w.lower()))\n",
    "    review.iloc[idx, 0] = ' '.join(tmp)\n",
    "\n",
    "DF = {}\n",
    "for idx, row in review.iterrows():\n",
    "    for w in row['Review'].split():\n",
    "        try:\n",
    "            DF[w].add(idx)\n",
    "        except:\n",
    "            DF[w] = {idx}\n",
    "DF = {k: len(v) for k, v in DF.items()}\n",
    "vocab = [k for k, v in DF.items()]\n",
    "vocab_len = len(vocab)\n",
    "\n",
    "from collections import Counter\n",
    "import numpy as np\n",
    "\n",
    "TFIDF = {}\n",
    "for idx, row in review.iterrows():\n",
    "    rw = row['Review'].split()\n",
    "    cnt = Counter(rw)\n",
    "    for w in np.unique(rw):\n",
    "        tf = cnt[w]/len(rw)\n",
    "        df = DF[w]\n",
    "        idf = np.log((docs_num+1)/(df+1))\n",
    "        TFIDF[(idx, w)] = tf*idf\n",
    "\n",
    "n = 0\n",
    "for k, v in TFIDF.items():\n",
    "    if n<5:\n",
    "        print(k, v)\n",
    "        n += 1\n",
    "    else:\n",
    "        break\n",
    "        \n",
    "\"\"\"\n",
    "P: like(54) great(38) good(35) love(33) best(20)\n",
    "N: however(15) disappointed(11) waste(10) poor(10) hard(8)\n",
    "\"\"\"\n",
    "def gen_vector(idx, review):\n",
    "    Q = np.zeros(10)\n",
    "    P = np.zeros(10)\n",
    "    ten_words = ['like', 'great', 'good', 'love', 'best', \n",
    "                 'however', 'disappointed', 'waste', 'poor', 'hard']\n",
    "    for w in ten_words:\n",
    "        for k, v in TFIDF.items():\n",
    "            if k[0]==idx and k[1]==w:\n",
    "                Q[ten_words.index(w)] = v\n",
    "        for word in review:\n",
    "            if word==w:\n",
    "                P[ten_words.index(w)] += 1\n",
    "                \n",
    "    return P, Q\n",
    "\n",
    "tfidf_vectors = []\n",
    "count_vectors = []\n",
    "for idx, row in review.iterrows():\n",
    "    rw = row['Review'].split()\n",
    "    P, Q = gen_vector(idx, rw)\n",
    "    tfidf_vectors.append([Q, row['Label']])\n",
    "    count_vectors.append(P)\n",
    "\n",
    "for i in range(10):\n",
    "    print(\"tf-idf vector for document {} is {}\".format(i, tfidf_vectors[i]))"
   ]
  },
  {
   "cell_type": "code",
   "execution_count": 38,
   "metadata": {},
   "outputs": [
    {
     "name": "stdout",
     "output_type": "stream",
     "text": [
      "Accuracy = 0.675\n",
      "Precision = 0.955\n",
      "Recall = 0.636\n",
      "--------------------\n",
      "Accuracy = 0.625\n",
      "Precision = 1.000\n",
      "Recall = 0.583\n",
      "--------------------\n",
      "Accuracy = 0.700\n",
      "Precision = 0.913\n",
      "Recall = 0.677\n",
      "--------------------\n",
      "Accuracy = 0.725\n",
      "Precision = 1.000\n",
      "Recall = 0.667\n",
      "--------------------\n",
      "Accuracy = 0.641\n",
      "Precision = 1.000\n",
      "Recall = 0.622\n",
      "--------------------\n",
      "Average Accuracy is:  0.6732051282051282\n",
      "Precision Accuracy is:  0.9735177865612649\n",
      "Recall Accuracy is:  0.6370809225647934\n"
     ]
    }
   ],
   "source": [
    "from sklearn.model_selection import KFold\n",
    "from sklearn.naive_bayes import GaussianNB\n",
    "from sklearn import metrics\n",
    "\n",
    "dataset = [[v[0], v[1]] for v in tfidf_vectors]\n",
    "kf = KFold(n_splits=5)\n",
    "avg_acc, avg_precision, avg_recall = [], [], []\n",
    "for train_idx, test_idx in kf.split(dataset):\n",
    "    gnb = GaussianNB()\n",
    "    X_train, y_train = [dataset[i][0] for i in train_idx], [dataset[i][1] for i in train_idx]\n",
    "    X_test, y_test = [dataset[i][0] for i in test_idx], [dataset[i][1] for i in test_idx]\n",
    "    pred = gnb.fit(X_train, y_train).predict(X_test)\n",
    "    \n",
    "    acc = metrics.accuracy_score(np.array(pred), y_test)\n",
    "    print(\"Accuracy = %.3f\" % (sum([p==a for p, a in zip(np.array(pred), y_test)])/len(np.array(pred))))\n",
    "    precision = metrics.precision_score(np.array(pred), y_test)\n",
    "    print(\"Precision = %.3f\" % precision)\n",
    "    recall = metrics.recall_score(np.array(pred), y_test)\n",
    "    print(\"Recall = %.3f\" % recall)\n",
    "    print('-----'*4)\n",
    "    avg_acc.append(acc)\n",
    "    avg_precision.append(precision)\n",
    "    avg_recall.append(recall)\n",
    "\n",
    "print(\"Average Accuracy is: \", sum(avg_acc)/5)\n",
    "print(\"Precision Accuracy is: \", sum(avg_precision)/5)\n",
    "print(\"Recall Accuracy is: \", sum(avg_recall)/5)"
   ]
  },
  {
   "cell_type": "code",
   "execution_count": null,
   "metadata": {},
   "outputs": [],
   "source": []
  }
 ],
 "metadata": {
  "kernelspec": {
   "display_name": "Python 3.6.7 64-bit ('py36': conda)",
   "language": "python",
   "name": "python36764bitpy36conda66c596ca2bd34a8b9a450feddd255336"
  },
  "language_info": {
   "codemirror_mode": {
    "name": "ipython",
    "version": 3
   },
   "file_extension": ".py",
   "mimetype": "text/x-python",
   "name": "python",
   "nbconvert_exporter": "python",
   "pygments_lexer": "ipython3",
   "version": "3.6.7"
  }
 },
 "nbformat": 4,
 "nbformat_minor": 2
}
