{
 "cells": [
  {
   "cell_type": "code",
   "execution_count": 8,
   "metadata": {},
   "outputs": [
    {
     "name": "stdout",
     "output_type": "stream",
     "text": [
      "Requirement already satisfied: nltk in /Users/zzy824/anaconda2/envs/py36/lib/python3.6/site-packages (3.4.5)\n",
      "Requirement already satisfied: six in /Users/zzy824/anaconda2/envs/py36/lib/python3.6/site-packages (from nltk) (1.10.0)\n",
      "\u001b[33mWARNING: You are using pip version 19.1.1, however version 20.0.2 is available.\n",
      "You should consider upgrading via the 'pip install --upgrade pip' command.\u001b[0m\n"
     ]
    },
    {
     "name": "stderr",
     "output_type": "stream",
     "text": [
      "[nltk_data] Downloading package wordnet to /Users/zzy824/nltk_data...\n",
      "[nltk_data]   Package wordnet is already up-to-date!\n",
      "[nltk_data] Downloading package stopwords to\n",
      "[nltk_data]     /Users/zzy824/nltk_data...\n",
      "[nltk_data]   Package stopwords is already up-to-date!\n"
     ]
    },
    {
     "data": {
      "text/plain": [
       "True"
      ]
     },
     "execution_count": 8,
     "metadata": {},
     "output_type": "execute_result"
    }
   ],
   "source": [
    "!pip install nltk\n",
    "import nltk\n",
    "nltk.download('wordnet')\n",
    "nltk.download('stopwords')"
   ]
  },
  {
   "cell_type": "code",
   "execution_count": 9,
   "metadata": {},
   "outputs": [
    {
     "name": "stdout",
     "output_type": "stream",
     "text": [
      "The dataset has 199 reviews.\n",
      "                                              Review  Label\n",
      "0   Stuning even for the non-gamer: This sound tr...      1\n",
      "1   The best soundtrack ever to anything.: I'm re...      1\n",
      "2   Amazing!: This soundtrack is my favorite musi...      1\n",
      "3   Excellent Soundtrack: I truly like this sound...      1\n",
      "4   Remember, Pull Your Jaw Off The Floor After H...      1\n"
     ]
    }
   ],
   "source": [
    "import pandas as pd\n",
    "\n",
    "review=pd.read_csv('./data/Amazon_Reviews.csv')\n",
    "review['Label']=review['Label'].map({'__label__2 ':1,'__label__1 ':0})\n",
    "docs_num = review.shape[0]\n",
    "print(\"The dataset has \"+str(docs_num)+\" reviews.\")\n",
    "print(review.head())"
   ]
  },
  {
   "cell_type": "code",
   "execution_count": 10,
   "metadata": {},
   "outputs": [
    {
     "data": {
      "text/html": [
       "<div>\n",
       "<style scoped>\n",
       "    .dataframe tbody tr th:only-of-type {\n",
       "        vertical-align: middle;\n",
       "    }\n",
       "\n",
       "    .dataframe tbody tr th {\n",
       "        vertical-align: top;\n",
       "    }\n",
       "\n",
       "    .dataframe thead th {\n",
       "        text-align: right;\n",
       "    }\n",
       "</style>\n",
       "<table border=\"1\" class=\"dataframe\">\n",
       "  <thead>\n",
       "    <tr style=\"text-align: right;\">\n",
       "      <th></th>\n",
       "      <th>Review</th>\n",
       "      <th>Label</th>\n",
       "    </tr>\n",
       "  </thead>\n",
       "  <tbody>\n",
       "    <tr>\n",
       "      <th>0</th>\n",
       "      <td>stuning even non gamer sound track beautiful p...</td>\n",
       "      <td>1</td>\n",
       "    </tr>\n",
       "    <tr>\n",
       "      <th>1</th>\n",
       "      <td>best soundtrack ever anything reading lot revi...</td>\n",
       "      <td>1</td>\n",
       "    </tr>\n",
       "    <tr>\n",
       "      <th>2</th>\n",
       "      <td>amazing soundtrack favorite music time hand in...</td>\n",
       "      <td>1</td>\n",
       "    </tr>\n",
       "    <tr>\n",
       "      <th>3</th>\n",
       "      <td>excellent soundtrack truly like soundtrack enj...</td>\n",
       "      <td>1</td>\n",
       "    </tr>\n",
       "    <tr>\n",
       "      <th>4</th>\n",
       "      <td>remember pull jaw floor hearing played game kn...</td>\n",
       "      <td>1</td>\n",
       "    </tr>\n",
       "    <tr>\n",
       "      <th>5</th>\n",
       "      <td>absolute masterpiece quite sure actually takin...</td>\n",
       "      <td>1</td>\n",
       "    </tr>\n",
       "    <tr>\n",
       "      <th>6</th>\n",
       "      <td>buyer beware self published book want know rea...</td>\n",
       "      <td>0</td>\n",
       "    </tr>\n",
       "    <tr>\n",
       "      <th>7</th>\n",
       "      <td>glorious story loved whisper wicked saint stor...</td>\n",
       "      <td>1</td>\n",
       "    </tr>\n",
       "    <tr>\n",
       "      <th>8</th>\n",
       "      <td>five star book finished reading whisper wicked...</td>\n",
       "      <td>1</td>\n",
       "    </tr>\n",
       "    <tr>\n",
       "      <th>9</th>\n",
       "      <td>whisper wicked saint easy read book made want ...</td>\n",
       "      <td>1</td>\n",
       "    </tr>\n",
       "    <tr>\n",
       "      <th>10</th>\n",
       "      <td>worst complete waste time typographical error ...</td>\n",
       "      <td>0</td>\n",
       "    </tr>\n",
       "    <tr>\n",
       "      <th>11</th>\n",
       "      <td>great book great book could put could read fas...</td>\n",
       "      <td>1</td>\n",
       "    </tr>\n",
       "    <tr>\n",
       "      <th>12</th>\n",
       "      <td>great read thought book brilliant yet realisti...</td>\n",
       "      <td>1</td>\n",
       "    </tr>\n",
       "    <tr>\n",
       "      <th>13</th>\n",
       "      <td>oh please guess romance novel lover one discer...</td>\n",
       "      <td>0</td>\n",
       "    </tr>\n",
       "    <tr>\n",
       "      <th>14</th>\n",
       "      <td>awful beyond belief feel write keep others was...</td>\n",
       "      <td>0</td>\n",
       "    </tr>\n",
       "    <tr>\n",
       "      <th>15</th>\n",
       "      <td>try fool u fake review glaringly obvious glowi...</td>\n",
       "      <td>0</td>\n",
       "    </tr>\n",
       "    <tr>\n",
       "      <th>16</th>\n",
       "      <td>romantic zen baseball comedy hear folk say mak...</td>\n",
       "      <td>1</td>\n",
       "    </tr>\n",
       "    <tr>\n",
       "      <th>17</th>\n",
       "      <td>fashionable compression stocking dvt doctor re...</td>\n",
       "      <td>1</td>\n",
       "    </tr>\n",
       "    <tr>\n",
       "      <th>18</th>\n",
       "      <td>jobst ultrasheer thigh high excellent product ...</td>\n",
       "      <td>1</td>\n",
       "    </tr>\n",
       "    <tr>\n",
       "      <th>19</th>\n",
       "      <td>size recomended size chart real size much smal...</td>\n",
       "      <td>0</td>\n",
       "    </tr>\n",
       "  </tbody>\n",
       "</table>\n",
       "</div>"
      ],
      "text/plain": [
       "                                               Review  Label\n",
       "0   stuning even non gamer sound track beautiful p...      1\n",
       "1   best soundtrack ever anything reading lot revi...      1\n",
       "2   amazing soundtrack favorite music time hand in...      1\n",
       "3   excellent soundtrack truly like soundtrack enj...      1\n",
       "4   remember pull jaw floor hearing played game kn...      1\n",
       "5   absolute masterpiece quite sure actually takin...      1\n",
       "6   buyer beware self published book want know rea...      0\n",
       "7   glorious story loved whisper wicked saint stor...      1\n",
       "8   five star book finished reading whisper wicked...      1\n",
       "9   whisper wicked saint easy read book made want ...      1\n",
       "10  worst complete waste time typographical error ...      0\n",
       "11  great book great book could put could read fas...      1\n",
       "12  great read thought book brilliant yet realisti...      1\n",
       "13  oh please guess romance novel lover one discer...      0\n",
       "14  awful beyond belief feel write keep others was...      0\n",
       "15  try fool u fake review glaringly obvious glowi...      0\n",
       "16  romantic zen baseball comedy hear folk say mak...      1\n",
       "17  fashionable compression stocking dvt doctor re...      1\n",
       "18  jobst ultrasheer thigh high excellent product ...      1\n",
       "19  size recomended size chart real size much smal...      0"
      ]
     },
     "execution_count": 10,
     "metadata": {},
     "output_type": "execute_result"
    }
   ],
   "source": [
    "# Preprocessing for tokenize, stopwords removal, lemmatization\n",
    "from nltk.tokenize import RegexpTokenizer\n",
    "from nltk.stem import WordNetLemmatizer\n",
    "from nltk.corpus import stopwords\n",
    "\n",
    "tokenizer=RegexpTokenizer(r'\\w+')\n",
    "lemmatizer=WordNetLemmatizer()\n",
    "\n",
    "for idx, row in review.iterrows():\n",
    "    tmp = []\n",
    "    tokens = tokenizer.tokenize(row['Review'])\n",
    "    for w in tokens:\n",
    "        if w.lower() not in stopwords.words('english'):\n",
    "            tmp.append(lemmatizer.lemmatize(w.lower()))\n",
    "    review.iloc[idx, 0] = ' '.join(tmp)\n",
    "review.head(20)"
   ]
  },
  {
   "cell_type": "code",
   "execution_count": 11,
   "metadata": {},
   "outputs": [
    {
     "name": "stdout",
     "output_type": "stream",
     "text": [
      "('one', 62)\n",
      "('book', 54)\n",
      "('like', 45)\n",
      "('get', 45)\n",
      "('time', 39)\n",
      "There are 2949 words in review's vocabulary\n"
     ]
    }
   ],
   "source": [
    "DF = {}\n",
    "for idx, row in review.iterrows():\n",
    "    for w in row['Review'].split():\n",
    "        try:\n",
    "            DF[w].add(idx)\n",
    "        except:\n",
    "            DF[w] = {idx}\n",
    "DF = {k: len(v) for k, v in DF.items()}\n",
    "\n",
    "for i, item in enumerate(sorted(DF.items(), reverse=True, key=lambda x: x[1])):\n",
    "    if i<5:\n",
    "        print(item)\n",
    "    else:\n",
    "        break\n",
    "    \n",
    "\n",
    "vocab = [k for k, v in DF.items()]\n",
    "vocab_len = len(vocab)\n",
    "print(\"There are \"+str(vocab_len)+\" words in review's vocabulary\")"
   ]
  },
  {
   "cell_type": "code",
   "execution_count": 12,
   "metadata": {},
   "outputs": [
    {
     "name": "stdout",
     "output_type": "stream",
     "text": [
      "(0, '_') 0.09332677950844283\n",
      "(0, 'anyone') 0.057561492565462814\n",
      "(0, 'away') 0.07449793816650496\n",
      "(0, 'back') 0.054780089388707126\n",
      "(0, 'beautiful') 0.08197509898030969\n"
     ]
    }
   ],
   "source": [
    "from collections import Counter\n",
    "import numpy as np\n",
    "\n",
    "TFIDF = {}\n",
    "for idx, row in review.iterrows():\n",
    "    rw = row['Review'].split()\n",
    "    cnt = Counter(rw)\n",
    "    for w in np.unique(rw):\n",
    "        tf = cnt[w]/len(rw)\n",
    "        df = DF[w]\n",
    "        idf = np.log((docs_num+1)/(df+1))\n",
    "        TFIDF[(idx, w)] = tf*idf\n",
    "\n",
    "n = 0\n",
    "for k, v in TFIDF.items():\n",
    "    if n<5:\n",
    "        print(k, v)\n",
    "        n += 1\n",
    "    else:\n",
    "        break"
   ]
  },
  {
   "cell_type": "code",
   "execution_count": 13,
   "metadata": {},
   "outputs": [
    {
     "data": {
      "text/plain": [
       "<Figure size 20000x60000 with 1 Axes>"
      ]
     },
     "metadata": {},
     "output_type": "display_data"
    }
   ],
   "source": [
    "import matplotlib.pyplot as plt\n",
    "x_axis = [i for i in range(docs_num)]\n",
    "y_axis = [v for v in vocab]\n",
    "\n",
    "score = []\n",
    "for i in range(docs_num):\n",
    "    for j, v in enumerate(vocab):\n",
    "        if (i, v) in TFIDF:\n",
    "            score.append(TFIDF[(i, v)])\n",
    "        else:\n",
    "            score.append(0)\n",
    "\n",
    "data = np.asarray(score).reshape(docs_num, vocab_len).T\n",
    "\n",
    "fig, ax = plt.subplots(figsize=(200,600))\n",
    "im = ax.imshow(data, cmap='plasma_r')\n",
    "ax.xaxis.set_ticks_position('top')\n",
    "ax.set_xticks(np.arange(docs_num))\n",
    "ax.set_yticks(np.arange(vocab_len))\n",
    "ax.set_xticklabels([i for i in range(docs_num)])\n",
    "ax.set_yticklabels([v for v in vocab])\n",
    "# ax.set_title(\"Word weight matrix\",x=0.2,y=1.034,fontsize=16)\n",
    "\n",
    "plt.show()\n",
    "\n",
    "# plt.imshow(data, cmap='hot')\n",
    "# # # plt.savefig('test')\n"
   ]
  },
  {
   "cell_type": "code",
   "execution_count": 20,
   "metadata": {},
   "outputs": [
    {
     "name": "stdout",
     "output_type": "stream",
     "text": [
      "count vector for document 0 is [0. 0. 0. 0. 1. 0. 0. 0. 0. 0.]\n",
      "tf-idf vector for document 0 is [array([0.        , 0.        , 0.        , 0.        , 0.05008433,\n",
      "       0.        , 0.        , 0.        , 0.        , 0.        ]), 1]\n",
      "count vector for document 1 is [0. 0. 0. 0. 2. 0. 0. 0. 0. 0.]\n",
      "tf-idf vector for document 1 is [array([0.        , 0.        , 0.        , 0.        , 0.09799108,\n",
      "       0.        , 0.        , 0.        , 0.        , 0.        ]), 1]\n",
      "count vector for document 2 is [1. 0. 0. 0. 1. 0. 0. 0. 0. 0.]\n",
      "tf-idf vector for document 2 is [array([0.02129965, 0.        , 0.        , 0.        , 0.03266369,\n",
      "       0.        , 0.        , 0.        , 0.        , 0.        ]), 1]\n",
      "count vector for document 3 is [3. 0. 0. 0. 1. 0. 0. 0. 0. 0.]\n",
      "tf-idf vector for document 3 is [array([0.05878704, 0.        , 0.        , 0.        , 0.0300506 ,\n",
      "       0.        , 0.        , 0.        , 0.        , 0.        ]), 1]\n",
      "count vector for document 4 is [0. 0. 1. 0. 1. 0. 0. 0. 0. 0.]\n",
      "tf-idf vector for document 4 is [array([0.        , 0.        , 0.03727823, 0.        , 0.04899554,\n",
      "       0.        , 0.        , 0.        , 0.        , 0.        ]), 1]\n",
      "count vector for document 5 is [0. 0. 0. 0. 2. 0. 0. 0. 0. 0.]\n",
      "tf-idf vector for document 5 is [array([0.        , 0.        , 0.        , 0.        , 0.06091338,\n",
      "       0.        , 0.        , 0.        , 0.        , 0.        ]), 1]\n",
      "count vector for document 6 is [0. 0. 0. 0. 0. 0. 0. 0. 0. 0.]\n",
      "tf-idf vector for document 6 is [array([0., 0., 0., 0., 0., 0., 0., 0., 0., 0.]), 0]\n",
      "count vector for document 7 is [0. 0. 0. 0. 0. 0. 0. 0. 0. 0.]\n",
      "tf-idf vector for document 7 is [array([0., 0., 0., 0., 0., 0., 0., 0., 0., 0.]), 1]\n",
      "count vector for document 8 is [0. 0. 0. 1. 0. 0. 0. 0. 0. 0.]\n",
      "tf-idf vector for document 8 is [array([0.        , 0.        , 0.        , 0.03937682, 0.        ,\n",
      "       0.        , 0.        , 0.        , 0.        , 0.        ]), 1]\n",
      "count vector for document 9 is [0. 0. 0. 0. 0. 0. 0. 0. 0. 0.]\n",
      "tf-idf vector for document 9 is [array([0., 0., 0., 0., 0., 0., 0., 0., 0., 0.]), 1]\n"
     ]
    }
   ],
   "source": [
    "\"\"\"\n",
    "P: like(54) great(38) good(35) love(33) best(20)\n",
    "N: however(15) disappointed(11) waste(10) poor(10) hard(8)\n",
    "\"\"\"\n",
    "def gen_vector(idx, review):\n",
    "    Q = np.zeros(10)\n",
    "    P = np.zeros(10)\n",
    "    ten_words = ['like', 'great', 'good', 'love', 'best', \n",
    "                 'however', 'disappointed', 'waste', 'poor', 'hard']\n",
    "    for w in ten_words:\n",
    "        for k, v in TFIDF.items():\n",
    "            if k[0]==idx and k[1]==w:\n",
    "                Q[ten_words.index(w)] = v\n",
    "        for word in review:\n",
    "            if word==w:\n",
    "                P[ten_words.index(w)] += 1\n",
    "                \n",
    "    return P, Q\n",
    "\n",
    "tfidf_vectors = []\n",
    "count_vectors = []\n",
    "for idx, row in review.iterrows():\n",
    "    rw = row['Review'].split()\n",
    "    P, Q = gen_vector(idx, rw)\n",
    "    tfidf_vectors.append([Q, row['Label']])\n",
    "    count_vectors.append(P)\n",
    "\n",
    "for i in range(10):\n",
    "    print(\"count vector for document {} is {}\".format(i, count_vectors[i]))\n",
    "    print(\"tf-idf vector for document {} is {}\".format(i, tfidf_vectors[i]))\n",
    "    \n",
    "    \n"
   ]
  },
  {
   "cell_type": "code",
   "execution_count": 15,
   "metadata": {},
   "outputs": [
    {
     "name": "stdout",
     "output_type": "stream",
     "text": [
      "0th document vector:  [1.0, 0.0]\n",
      "1th document vector:  [2.0, 0.0]\n",
      "2th document vector:  [2.0, 0.0]\n",
      "3th document vector:  [4.0, 0.0]\n",
      "4th document vector:  [2.0, 0.0]\n",
      "5th document vector:  [2.0, 0.0]\n",
      "6th document vector:  [0.0, 0.0]\n",
      "7th document vector:  [0.0, 0.0]\n",
      "8th document vector:  [1.0, 0.0]\n",
      "9th document vector:  [0.0, 0.0]\n",
      "10th document vector:  [0.0, 3.0]\n",
      "11th document vector:  [3.0, 0.0]\n",
      "12th document vector:  [1.0, 0.0]\n",
      "13th document vector:  [0.0, 1.0]\n",
      "14th document vector:  [1.0, 3.0]\n",
      "15th document vector:  [0.0, 1.0]\n",
      "16th document vector:  [1.0, 0.0]\n",
      "17th document vector:  [1.0, 0.0]\n",
      "18th document vector:  [1.0, 1.0]\n",
      "19th document vector:  [0.0, 0.0]\n",
      "20th document vector:  [2.0, 0.0]\n",
      "21th document vector:  [3.0, 1.0]\n",
      "22th document vector:  [2.0, 1.0]\n",
      "23th document vector:  [1.0, 0.0]\n",
      "24th document vector:  [1.0, 0.0]\n",
      "25th document vector:  [0.0, 0.0]\n",
      "26th document vector:  [0.0, 0.0]\n",
      "27th document vector:  [0.0, 2.0]\n",
      "28th document vector:  [0.0, 0.0]\n",
      "29th document vector:  [1.0, 0.0]\n",
      "30th document vector:  [2.0, 0.0]\n",
      "31th document vector:  [2.0, 0.0]\n",
      "32th document vector:  [0.0, 0.0]\n",
      "33th document vector:  [7.0, 0.0]\n",
      "34th document vector:  [0.0, 1.0]\n",
      "35th document vector:  [1.0, 1.0]\n",
      "36th document vector:  [3.0, 0.0]\n",
      "37th document vector:  [2.0, 0.0]\n",
      "38th document vector:  [0.0, 0.0]\n",
      "39th document vector:  [0.0, 1.0]\n",
      "40th document vector:  [1.0, 0.0]\n",
      "41th document vector:  [0.0, 0.0]\n",
      "42th document vector:  [1.0, 0.0]\n",
      "43th document vector:  [1.0, 0.0]\n",
      "44th document vector:  [0.0, 0.0]\n",
      "45th document vector:  [0.0, 0.0]\n",
      "46th document vector:  [1.0, 1.0]\n",
      "47th document vector:  [2.0, 1.0]\n",
      "48th document vector:  [0.0, 0.0]\n",
      "49th document vector:  [0.0, 1.0]\n",
      "50th document vector:  [2.0, 0.0]\n",
      "51th document vector:  [3.0, 0.0]\n",
      "52th document vector:  [0.0, 3.0]\n",
      "53th document vector:  [6.0, 0.0]\n",
      "54th document vector:  [1.0, 0.0]\n",
      "55th document vector:  [3.0, 0.0]\n",
      "56th document vector:  [0.0, 0.0]\n",
      "57th document vector:  [0.0, 0.0]\n",
      "58th document vector:  [0.0, 1.0]\n",
      "59th document vector:  [0.0, 0.0]\n",
      "60th document vector:  [0.0, 0.0]\n",
      "61th document vector:  [0.0, 1.0]\n",
      "62th document vector:  [0.0, 1.0]\n",
      "63th document vector:  [0.0, 0.0]\n",
      "64th document vector:  [0.0, 0.0]\n",
      "65th document vector:  [0.0, 0.0]\n",
      "66th document vector:  [2.0, 0.0]\n",
      "67th document vector:  [4.0, 0.0]\n",
      "68th document vector:  [3.0, 0.0]\n",
      "69th document vector:  [5.0, 0.0]\n",
      "70th document vector:  [0.0, 0.0]\n",
      "71th document vector:  [0.0, 0.0]\n",
      "72th document vector:  [2.0, 0.0]\n",
      "73th document vector:  [3.0, 0.0]\n",
      "74th document vector:  [2.0, 0.0]\n",
      "75th document vector:  [0.0, 2.0]\n",
      "76th document vector:  [2.0, 0.0]\n",
      "77th document vector:  [2.0, 0.0]\n",
      "78th document vector:  [1.0, 1.0]\n",
      "79th document vector:  [0.0, 0.0]\n",
      "80th document vector:  [1.0, 0.0]\n",
      "81th document vector:  [5.0, 0.0]\n",
      "82th document vector:  [1.0, 0.0]\n",
      "83th document vector:  [1.0, 0.0]\n",
      "84th document vector:  [1.0, 0.0]\n",
      "85th document vector:  [1.0, 0.0]\n",
      "86th document vector:  [0.0, 1.0]\n",
      "87th document vector:  [1.0, 0.0]\n",
      "88th document vector:  [0.0, 1.0]\n",
      "89th document vector:  [0.0, 1.0]\n",
      "90th document vector:  [0.0, 0.0]\n",
      "91th document vector:  [1.0, 0.0]\n",
      "92th document vector:  [3.0, 0.0]\n",
      "93th document vector:  [0.0, 0.0]\n",
      "94th document vector:  [1.0, 0.0]\n",
      "95th document vector:  [1.0, 0.0]\n",
      "96th document vector:  [1.0, 0.0]\n",
      "97th document vector:  [0.0, 0.0]\n",
      "98th document vector:  [0.0, 0.0]\n",
      "99th document vector:  [0.0, 0.0]\n",
      "100th document vector:  [0.0, 0.0]\n",
      "101th document vector:  [5.0, 0.0]\n",
      "102th document vector:  [0.0, 0.0]\n",
      "103th document vector:  [1.0, 1.0]\n",
      "104th document vector:  [0.0, 2.0]\n",
      "105th document vector:  [0.0, 0.0]\n",
      "106th document vector:  [3.0, 2.0]\n",
      "107th document vector:  [1.0, 3.0]\n",
      "108th document vector:  [0.0, 0.0]\n",
      "109th document vector:  [2.0, 0.0]\n",
      "110th document vector:  [2.0, 0.0]\n",
      "111th document vector:  [0.0, 0.0]\n",
      "112th document vector:  [1.0, 0.0]\n",
      "113th document vector:  [2.0, 0.0]\n",
      "114th document vector:  [0.0, 0.0]\n",
      "115th document vector:  [1.0, 1.0]\n",
      "116th document vector:  [4.0, 0.0]\n",
      "117th document vector:  [1.0, 2.0]\n",
      "118th document vector:  [1.0, 1.0]\n",
      "119th document vector:  [1.0, 0.0]\n",
      "120th document vector:  [5.0, 0.0]\n",
      "121th document vector:  [4.0, 0.0]\n",
      "122th document vector:  [1.0, 0.0]\n",
      "123th document vector:  [0.0, 0.0]\n",
      "124th document vector:  [1.0, 0.0]\n",
      "125th document vector:  [2.0, 0.0]\n",
      "126th document vector:  [1.0, 0.0]\n",
      "127th document vector:  [2.0, 0.0]\n",
      "128th document vector:  [1.0, 0.0]\n",
      "129th document vector:  [0.0, 0.0]\n",
      "130th document vector:  [0.0, 0.0]\n",
      "131th document vector:  [0.0, 0.0]\n",
      "132th document vector:  [0.0, 1.0]\n",
      "133th document vector:  [2.0, 0.0]\n",
      "134th document vector:  [1.0, 2.0]\n",
      "135th document vector:  [2.0, 0.0]\n",
      "136th document vector:  [1.0, 0.0]\n",
      "137th document vector:  [0.0, 0.0]\n",
      "138th document vector:  [0.0, 0.0]\n",
      "139th document vector:  [1.0, 0.0]\n",
      "140th document vector:  [1.0, 0.0]\n",
      "141th document vector:  [1.0, 0.0]\n",
      "142th document vector:  [1.0, 1.0]\n",
      "143th document vector:  [1.0, 0.0]\n",
      "144th document vector:  [1.0, 0.0]\n",
      "145th document vector:  [1.0, 1.0]\n",
      "146th document vector:  [2.0, 0.0]\n",
      "147th document vector:  [0.0, 1.0]\n",
      "148th document vector:  [0.0, 0.0]\n",
      "149th document vector:  [3.0, 0.0]\n",
      "150th document vector:  [0.0, 0.0]\n",
      "151th document vector:  [0.0, 1.0]\n",
      "152th document vector:  [1.0, 1.0]\n",
      "153th document vector:  [1.0, 0.0]\n",
      "154th document vector:  [0.0, 0.0]\n",
      "155th document vector:  [0.0, 0.0]\n",
      "156th document vector:  [0.0, 1.0]\n",
      "157th document vector:  [0.0, 0.0]\n",
      "158th document vector:  [2.0, 0.0]\n",
      "159th document vector:  [1.0, 1.0]\n",
      "160th document vector:  [1.0, 0.0]\n",
      "161th document vector:  [1.0, 1.0]\n",
      "162th document vector:  [3.0, 2.0]\n",
      "163th document vector:  [0.0, 0.0]\n",
      "164th document vector:  [5.0, 0.0]\n",
      "165th document vector:  [3.0, 0.0]\n",
      "166th document vector:  [1.0, 1.0]\n",
      "167th document vector:  [0.0, 0.0]\n",
      "168th document vector:  [5.0, 0.0]\n",
      "169th document vector:  [1.0, 0.0]\n",
      "170th document vector:  [0.0, 0.0]\n",
      "171th document vector:  [2.0, 0.0]\n",
      "172th document vector:  [1.0, 0.0]\n",
      "173th document vector:  [3.0, 0.0]\n",
      "174th document vector:  [0.0, 1.0]\n",
      "175th document vector:  [1.0, 0.0]\n",
      "176th document vector:  [0.0, 0.0]\n",
      "177th document vector:  [0.0, 0.0]\n",
      "178th document vector:  [2.0, 0.0]\n",
      "179th document vector:  [0.0, 0.0]\n",
      "180th document vector:  [0.0, 0.0]\n",
      "181th document vector:  [1.0, 0.0]\n",
      "182th document vector:  [1.0, 0.0]\n",
      "183th document vector:  [0.0, 0.0]\n",
      "184th document vector:  [3.0, 0.0]\n",
      "185th document vector:  [4.0, 0.0]\n",
      "186th document vector:  [2.0, 0.0]\n",
      "187th document vector:  [3.0, 0.0]\n",
      "188th document vector:  [0.0, 0.0]\n",
      "189th document vector:  [0.0, 0.0]\n",
      "190th document vector:  [1.0, 0.0]\n",
      "191th document vector:  [1.0, 0.0]\n",
      "192th document vector:  [1.0, 0.0]\n",
      "193th document vector:  [1.0, 0.0]\n",
      "194th document vector:  [1.0, 0.0]\n",
      "195th document vector:  [4.0, 0.0]\n",
      "196th document vector:  [1.0, 2.0]\n",
      "197th document vector:  [2.0, 0.0]\n",
      "198th document vector:  [0.0, 0.0]\n"
     ]
    }
   ],
   "source": [
    "review_vectors = []\n",
    "pos = ['like', 'great', 'good', 'love', 'best']\n",
    "neg = ['however', 'disappointed', 'waste', 'poor', 'hard']\n",
    "for idx, row in review.iterrows():\n",
    "    rw = row['Review'].split()\n",
    "    pos_cnt, neg_cnt = 0, 0\n",
    "    for w in rw:\n",
    "        if w in pos:\n",
    "            pos_cnt += 1\n",
    "        elif w in neg:\n",
    "            neg_cnt += 1\n",
    "    review_vectors.append([float(pos_cnt), float(neg_cnt)])\n",
    "\n",
    "for i in range(docs_num):\n",
    "    print(str(i)+\"th document vector: \", review_vectors[i])\n",
    "review_vectors = np.asarray(review_vectors)\n"
   ]
  },
  {
   "cell_type": "code",
   "execution_count": 16,
   "metadata": {},
   "outputs": [],
   "source": [
    "from scipy.spatial.distance import cdist\n",
    "class K_means():\n",
    "    def __init__(self, X, k, c):\n",
    "        self.X = X\n",
    "        self.k = k\n",
    "        self.c = c\n",
    "        self.i = 0\n",
    "    \n",
    "    def __call__(self, max_iter=10000):\n",
    "        diag = np.eye(self.k)\n",
    "        self.c = self.X[np.random.choice(len(self.X), self.k, replace=False)]\n",
    "        for i in range(max_iter):\n",
    "            self.i = i\n",
    "            prev_c = np.copy(self.c)\n",
    "            dist = cdist(self.X, self.c)\n",
    "            cluster_idx = np.argmin(dist, axis=1)\n",
    "            cluster_idx = diag[cluster_idx]\n",
    "            self.c = np.sum(self.X[:, None, :] * cluster_idx[:, :, None], axis=0) / np.sum(cluster_idx, axis=0)[:, None]\n",
    "            if np.allclose(prev_c, self.c, atol=1e-3):\n",
    "                break\n",
    "\n",
    "def plotAns(data, center=None):\n",
    "    plt.plot(data[:, 0], data[:, 1], 'x')\n",
    "    plt.plot(center[:, 0], center[:, 1], 'o')\n",
    "    plt.axis('equal')\n",
    "    plt.show()   \n"
   ]
  },
  {
   "cell_type": "code",
   "execution_count": 17,
   "metadata": {},
   "outputs": [
    {
     "data": {
      "image/png": "[encoded data removed]",
      "text/plain": [
       "<Figure size 432x288 with 1 Axes>"
      ]
     },
     "metadata": {
      "needs_background": "light"
     },
     "output_type": "display_data"
    },
    {
     "name": "stdout",
     "output_type": "stream",
     "text": [
      "1\n"
     ]
    }
   ],
   "source": [
    "k1 = K_means(X=review_vectors, k=2, c=None)\n",
    "k1.__call__()\n",
    "plotAns(review_vectors, k1.c)\n",
    "print(k1.i)"
   ]
  },
  {
   "cell_type": "code",
   "execution_count": 18,
   "metadata": {},
   "outputs": [
    {
     "name": "stderr",
     "output_type": "stream",
     "text": [
      "/Users/zzy824/anaconda2/envs/py36/lib/python3.6/site-packages/ipykernel_launcher.py:18: RuntimeWarning: invalid value encountered in true_divide\n"
     ]
    },
    {
     "data": {
      "image/png": "[encoded data removed]",
      "text/plain": [
       "<Figure size 432x288 with 1 Axes>"
      ]
     },
     "metadata": {
      "needs_background": "light"
     },
     "output_type": "display_data"
    },
    {
     "name": "stdout",
     "output_type": "stream",
     "text": [
      "9999\n"
     ]
    }
   ],
   "source": [
    "k2 = K_means(X=review_vectors, k=3, c=None)\n",
    "k2.__call__()\n",
    "plotAns(review_vectors, k2.c)\n",
    "print(k2.i)"
   ]
  },
  {
   "cell_type": "code",
   "execution_count": 19,
   "metadata": {},
   "outputs": [
    {
     "data": {
      "image/png": "[encoded data removed]",
      "text/plain": [
       "<Figure size 432x288 with 1 Axes>"
      ]
     },
     "metadata": {
      "needs_background": "light"
     },
     "output_type": "display_data"
    },
    {
     "name": "stdout",
     "output_type": "stream",
     "text": [
      "9999\n"
     ]
    }
   ],
   "source": [
    "np.seterr(divide='ignore', invalid='ignore')\n",
    "k3 = K_means(X=review_vectors, k=4, c=None)\n",
    "k3.__call__()\n",
    "plotAns(review_vectors, k3.c)\n",
    "print(k3.i)"
   ]
  }
 ],
 "metadata": {
  "kernelspec": {
   "display_name": "Python 3.6.7 64-bit ('py36': conda)",
   "language": "python",
   "name": "python36764bitpy36conda66c596ca2bd34a8b9a450feddd255336"
  },
  "language_info": {
   "codemirror_mode": {
    "name": "ipython",
    "version": 3
   },
   "file_extension": ".py",
   "mimetype": "text/x-python",
   "name": "python",
   "nbconvert_exporter": "python",
   "pygments_lexer": "ipython3",
   "version": "3.6.7"
  }
 },
 "nbformat": 4,
 "nbformat_minor": 2
}
